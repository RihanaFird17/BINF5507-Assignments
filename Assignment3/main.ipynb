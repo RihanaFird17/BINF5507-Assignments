{
 "cells": [
  {
   "cell_type": "code",
   "execution_count": null,
   "metadata": {},
   "outputs": [],
   "source": [
    "import numpy as np\n",
    "import matplotlib.pyplot as plt\n",
    "from sklearn import datasets\n",
    "from sklearn.cluster import DBSCAN, KMeans\n",
    "from sklearn.preprocessing import StandardScaler\n",
    "from sklearn.metrics import silhouette_score\n",
    "from scipy.cluster.hierarchy import dendrogram, linkage\n",
    "from sklearn.decomposition import PCA\n",
    "\n",
    "\n",
    "# Create datasets\n",
    "datasets = {\n",
    "    'moons': datasets.make_moons(n_samples=300, noise=0.05, random_state=42),\n",
    "    'blobs': datasets.make_blobs(n_samples=300, centers=3, cluster_std=[1.0, 2.5, 0.5], random_state=42),\n",
    "    'circles': datasets.make_circles(n_samples=300, factor=0.5, noise=0.05, random_state=42)\n",
    "}"
   ]
  }
 ],
 "metadata": {
  "language_info": {
   "name": "python"
  }
 },
 "nbformat": 4,
 "nbformat_minor": 2
}
