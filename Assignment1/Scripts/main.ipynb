{
 "cells": [
  {
   "cell_type": "code",
   "execution_count": 12,
   "metadata": {},
   "outputs": [
    {
     "ename": "NameError",
     "evalue": "name 'simple_model' is not defined",
     "output_type": "error",
     "traceback": [
      "\u001b[1;31m---------------------------------------------------------------------------\u001b[0m",
      "\u001b[1;31mNameError\u001b[0m                                 Traceback (most recent call last)",
      "Cell \u001b[1;32mIn[12], line 21\u001b[0m\n\u001b[0;32m     15\u001b[0m clean_data \u001b[38;5;241m=\u001b[39m dp\u001b[38;5;241m.\u001b[39mremove_redundant_features(clean_data)\n\u001b[0;32m     17\u001b[0m \u001b[38;5;66;03m# 3. Save the cleaned dataset\u001b[39;00m\n\u001b[0;32m     18\u001b[0m \u001b[38;5;66;03m# clean_data.to_csv('../Data/clean_data.csv', index=False)\u001b[39;00m\n\u001b[0;32m     19\u001b[0m \n\u001b[0;32m     20\u001b[0m \u001b[38;5;66;03m# 4. Train and evaluate the model\u001b[39;00m\n\u001b[1;32m---> 21\u001b[0m \u001b[43msimple_model\u001b[49m(clean_data)\n",
      "\u001b[1;31mNameError\u001b[0m: name 'simple_model' is not defined"
     ]
    }
   ],
   "source": [
    "# Import necessary modules\n",
    "import data_preprocessor as dp\n",
    "import pandas as pd\n",
    "from sklearn.linear_model import LogisticRegression\n",
    "from sklearn.metrics import accuracy_score\n",
    "\n",
    "# 1. Load the dataset\n",
    "messy_data = pd.read_csv('../Data/messy_data.csv')\n",
    "clean_data = messy_data.copy()\n",
    "\n",
    "# 2. Preprocess the data\n",
    "clean_data = dp.impute_missing_values(clean_data, strategy='mean')\n",
    "clean_data = dp.remove_duplicates(clean_data)\n",
    "clean_data = dp.normalize_data(clean_data)\n",
    "clean_data = dp.remove_redundant_features(clean_data)\n",
    "\n",
    "# 3. Save the cleaned dataset\n",
    "# clean_data.to_csv('../Data/clean_data.csv', index=False)\n",
    "\n",
    "# 4. Train and evaluate the model\n",
    "simple_model(clean_data)"
   ]
  }
 ],
 "metadata": {
  "kernelspec": {
   "display_name": "Python 3",
   "language": "python",
   "name": "python3"
  },
  "language_info": {
   "codemirror_mode": {
    "name": "ipython",
    "version": 3
   },
   "file_extension": ".py",
   "mimetype": "text/x-python",
   "name": "python",
   "nbconvert_exporter": "python",
   "pygments_lexer": "ipython3",
   "version": "3.13.2"
  }
 },
 "nbformat": 4,
 "nbformat_minor": 2
}
